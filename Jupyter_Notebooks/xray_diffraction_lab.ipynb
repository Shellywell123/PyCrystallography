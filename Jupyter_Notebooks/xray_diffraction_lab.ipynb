{
 "cells": [
  {
   "cell_type": "markdown",
   "metadata": {},
   "source": [
    "# Welcome to Bens mini Xray-Diffraction Lab!\n",
    "First thing we need to do is install the [PyCrystallography](https://github.com/Shellywell123/PyCrystallography) package into this notebook, checking it is upto date.\n",
    "- to run a cell of code click on it and press [Control + enter]\n",
    "- when a cell is running its line number will look like \"ln [*]\""
   ]
  },
  {
   "cell_type": "code",
   "execution_count": 1,
   "metadata": {},
   "outputs": [],
   "source": [
    "%%capture\n",
    "pip install PyCrystallography --upgrade"
   ]
  },
  {
   "cell_type": "code",
   "execution_count": 2,
   "metadata": {},
   "outputs": [
    {
     "name": "stdout",
     "output_type": "stream",
     "text": [
      "Version: 0.2.0\n",
      "Note: you may need to restart the kernel to use updated packages.\n"
     ]
    }
   ],
   "source": [
    "pip show PyCrystallography | grep Version"
   ]
  },
  {
   "cell_type": "markdown",
   "metadata": {},
   "source": [
    "## Next we can start our simulation\n",
    " - 1st import the xray_diffraction module"
   ]
  },
  {
   "cell_type": "code",
   "execution_count": 3,
   "metadata": {},
   "outputs": [],
   "source": [
    "%matplotlib notebook\n",
    "from PyCrystallography import xray_diffraction"
   ]
  },
  {
   "cell_type": "markdown",
   "metadata": {},
   "source": [
    " - 2nd step is to set the paramaters for our experiment"
   ]
  },
  {
   "cell_type": "code",
   "execution_count": 4,
   "metadata": {},
   "outputs": [],
   "source": [
    "num_of_particles = 10\n",
    "angle = 45 \n",
    "spread = 10\n",
    "lattice_shape = 'square'"
   ]
  },
  {
   "cell_type": "markdown",
   "metadata": {},
   "source": [
    " - Finally we call the function run_simulation and pass in our paramaters!\n",
    "(bear in mind the more particles the longer it will take to process)"
   ]
  },
  {
   "cell_type": "code",
   "execution_count": 5,
   "metadata": {},
   "outputs": [
    {
     "name": "stdout",
     "output_type": "stream",
     "text": [
      "Initial Conditions\n",
      " - 10 particles spread across 10 (x units) at a angle of 45 degrees\n",
      "\n",
      "Simulation Outcome\n",
      " - 6 lattice collision/s, 4 lattice pass/es\n"
     ]
    }
   ],
   "source": [
    "xray_diffraction.run_simulation(num_of_particles,angle,spread,lattice_shape)"
   ]
  },
  {
   "cell_type": "markdown",
   "metadata": {},
   "source": [
    "## Congratulations you just simulated Xray diffraction!"
   ]
  },
  {
   "cell_type": "code",
   "execution_count": null,
   "metadata": {},
   "outputs": [],
   "source": []
  }
 ],
 "metadata": {
  "kernelspec": {
   "display_name": "Python 3",
   "language": "python",
   "name": "python3"
  },
  "language_info": {
   "codemirror_mode": {
    "name": "ipython",
    "version": 3
   },
   "file_extension": ".py",
   "mimetype": "text/x-python",
   "name": "python",
   "nbconvert_exporter": "python",
   "pygments_lexer": "ipython3",
   "version": "3.6.9"
  }
 },
 "nbformat": 4,
 "nbformat_minor": 2
}
